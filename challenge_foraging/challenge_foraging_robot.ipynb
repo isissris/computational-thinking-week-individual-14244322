{
 "cells": [
  {
   "attachments": {},
   "cell_type": "markdown",
   "metadata": {},
   "source": [
    "# Foraging Robot Exercise\n",
    "In this individual exercise, you will write heuristics for a foraging robot so that it can efficiently gather fruits and berries in the forest. Your goal is to collect as much as you can!\n",
    "\n",
    "## Learning goals\n",
    "Refresh your knowledge of semester 2 statistics:\n",
    "- Probability\n",
    "- Probability distributions\n",
    "- Conditional probabilities\n",
    "    \n",
    "## Overview\n",
    "As for all individual exercises, you are expected to complete the bronze level, but silver and gold levels are fully optional.\n",
    "\n",
    "Bronze Level (~1 hour)\n",
    "- Introduction to the scenario\n",
    "- Estimate distributions from samples\n",
    "- Calculate cumulative distribution functions\n",
    "\n",
    "Silver Level (~1 hour)\n",
    "- Conditional probabilities\n",
    "\n",
    "Gold Level (~2.5 hours)\n",
    "- Making a strategy\n",
    "\n"
   ]
  },
  {
   "cell_type": "code",
   "execution_count": 68,
   "metadata": {},
   "outputs": [],
   "source": [
    "# Imports\n",
    "from IPython.display import Image\n",
    "import numpy as np\n",
    "import seaborn as sns\n",
    "import matplotlib.pyplot as plt\n",
    "\n",
    "from tests import tests"
   ]
  },
  {
   "attachments": {},
   "cell_type": "markdown",
   "metadata": {},
   "source": [
    "## Bronze Level: Your foraging robot\n",
    "\n",
    "Congratulations on acquiring your own ForageBot 3000. This robot can autonomously collect fruits and berries from your local forest.\n",
    "Let's import and initialize our robot:"
   ]
  },
  {
   "cell_type": "code",
   "execution_count": 69,
   "metadata": {},
   "outputs": [],
   "source": [
    "from scenario.forage_bot import ForageBot, Tree, BerryBush\n",
    "\n",
    "forageBot = ForageBot()"
   ]
  },
  {
   "attachments": {},
   "cell_type": "markdown",
   "metadata": {},
   "source": [
    "In the step above, we import the ForageBot class from a different file (module). We then initialize an instance of this class as *forageBot*.\n",
    "You have probably used classes before, such as DataFrames from the pandas module. All the methods (functions) and attributes (variables) of ForageBot() will be explained when we first use them, but if you want to have a look, you can also check out the scenario file to see the class definition.\n",
    "\n",
    "The most important ability of your ForageBot, of course, is to forage. Every day, you can send out your robot to forage from one location.\n",
    "During our initital survey of your local forest, we identified two nearby apple trees. Let's send your new robot to one of these trees to collect apples."
   ]
  },
  {
   "cell_type": "code",
   "execution_count": 70,
   "metadata": {},
   "outputs": [
    {
     "name": "stdout",
     "output_type": "stream",
     "text": [
      "The robot collected 2.39kg of apples\n"
     ]
    }
   ],
   "source": [
    "tree_one = ForageBot.pre_survey['tree_one']\n",
    "\n",
    "forageBot.forage(tree_one, verbose=True);"
   ]
  },
  {
   "attachments": {},
   "cell_type": "markdown",
   "metadata": {},
   "source": [
    "Well done! You've collected your first apples.\n",
    "Now, try running the cell above a few more times. You will notice, that the amount of apples you collect changes every time. Even though you are collecting from the same tree, the yield for the day is random.\n",
    "Now, try collecting apples from the second tree a few times:"
   ]
  },
  {
   "cell_type": "code",
   "execution_count": 71,
   "metadata": {},
   "outputs": [
    {
     "name": "stdout",
     "output_type": "stream",
     "text": [
      "The robot collected 4.61kg of apples\n"
     ]
    }
   ],
   "source": [
    "tree_two = ForageBot.pre_survey['tree_two']\n",
    "#np.random.seed(42)\n",
    "forageBot.forage(tree_two, verbose=True);"
   ]
  },
  {
   "attachments": {},
   "cell_type": "markdown",
   "metadata": {},
   "source": [
    "Did you notice a difference?\n",
    "The second tree seems to usually yield more apples. However, it's sometimes possible to collect more apples from tree one than from tree two.\n",
    "\n",
    "Later, we will go explore the forest and find new trees. Of course, we would like to find the best trees which yield us the most apples.\n",
    "Given that the amount of apples for any day is random, we should try to find the __expected result__ from any given tree.\n",
    "The easiest way to do this, would be to estimate the __average__ amount of apples we collect from any tree.\n",
    "Try below to calculate the mean amount of apples collected from a tree.\n",
    "It's as simple as summing up all the values you collected, and then dividing by the number of samples that you collected.\n",
    "\n",
    "Complete the function below by filling in the '...'"
   ]
  },
  {
   "cell_type": "code",
   "execution_count": 72,
   "metadata": {},
   "outputs": [
    {
     "name": "stdout",
     "output_type": "stream",
     "text": [
      "The robot collected 3.29kg of apples\n",
      "The robot collected 3.33kg of apples\n",
      "The robot collected 2.82kg of apples\n",
      "The robot collected 2.20kg of apples\n",
      "The robot collected 2.97kg of apples\n",
      "The robot collected 4.79kg of apples\n",
      "The robot collected 2.48kg of apples\n",
      "The robot collected 3.22kg of apples\n",
      "The robot collected 5.53kg of apples\n",
      "The robot collected 2.47kg of apples\n",
      "The robot collected 3.68kg of apples\n",
      "The robot collected 4.85kg of apples\n",
      "The robot collected 3.59kg of apples\n",
      "The robot collected 4.11kg of apples\n",
      "The robot collected 3.82kg of apples\n",
      "The robot collected 3.51kg of apples\n",
      "The robot collected 4.38kg of apples\n",
      "The robot collected 3.65kg of apples\n",
      "The robot collected 2.83kg of apples\n",
      "The robot collected 3.15kg of apples\n",
      "The robot collected 3.37kg of apples\n",
      "The robot collected 2.61kg of apples\n",
      "The robot collected 3.19kg of apples\n",
      "The robot collected 3.05kg of apples\n",
      "The robot collected 3.65kg of apples\n",
      "The robot collected 5.16kg of apples\n",
      "The robot collected 3.25kg of apples\n",
      "The robot collected 4.58kg of apples\n",
      "The robot collected 3.61kg of apples\n",
      "The robot collected 3.19kg of apples\n",
      "The robot collected 2.55kg of apples\n",
      "The robot collected 3.19kg of apples\n",
      "The robot collected 3.13kg of apples\n",
      "The robot collected 2.30kg of apples\n",
      "The robot collected 2.44kg of apples\n",
      "The robot collected 3.38kg of apples\n",
      "The robot collected 4.57kg of apples\n",
      "The robot collected 2.93kg of apples\n",
      "The robot collected 1.55kg of apples\n",
      "The robot collected 0.80kg of apples\n",
      "The robot collected 1.98kg of apples\n",
      "The robot collected 3.71kg of apples\n",
      "The robot collected 1.72kg of apples\n",
      "The robot collected 3.87kg of apples\n",
      "The robot collected 3.65kg of apples\n",
      "The robot collected 2.90kg of apples\n",
      "The robot collected 1.47kg of apples\n",
      "The robot collected 2.31kg of apples\n",
      "The robot collected 2.76kg of apples\n",
      "The robot collected 3.35kg of apples\n",
      "The robot collected 1.75kg of apples\n",
      "The robot collected 4.44kg of apples\n",
      "The robot collected 3.34kg of apples\n",
      "The robot collected 3.46kg of apples\n",
      "The robot collected 3.64kg of apples\n",
      "The robot collected 4.33kg of apples\n",
      "The robot collected 3.20kg of apples\n",
      "The robot collected 3.71kg of apples\n",
      "The robot collected 2.32kg of apples\n",
      "The robot collected 4.80kg of apples\n",
      "The robot collected 3.13kg of apples\n",
      "The robot collected 2.32kg of apples\n",
      "The robot collected 2.55kg of apples\n",
      "The robot collected 1.11kg of apples\n",
      "The robot collected 2.55kg of apples\n",
      "The robot collected 0.58kg of apples\n",
      "The robot collected 3.79kg of apples\n",
      "The robot collected 3.43kg of apples\n",
      "The robot collected 2.03kg of apples\n",
      "The robot collected 2.95kg of apples\n",
      "The robot collected 3.00kg of apples\n",
      "The robot collected 1.84kg of apples\n",
      "The robot collected 2.78kg of apples\n",
      "The robot collected 3.03kg of apples\n",
      "The robot collected 2.75kg of apples\n",
      "The robot collected 2.32kg of apples\n",
      "The robot collected 2.00kg of apples\n",
      "The robot collected 2.72kg of apples\n",
      "The robot collected 2.43kg of apples\n",
      "The robot collected 3.57kg of apples\n",
      "The robot collected 4.40kg of apples\n",
      "The robot collected 3.92kg of apples\n",
      "The robot collected 3.06kg of apples\n",
      "The robot collected 2.35kg of apples\n",
      "The robot collected 3.90kg of apples\n",
      "The robot collected 3.64kg of apples\n",
      "The robot collected 4.32kg of apples\n",
      "The robot collected 3.20kg of apples\n",
      "The robot collected 4.74kg of apples\n",
      "The robot collected 3.20kg of apples\n",
      "The robot collected 2.35kg of apples\n",
      "The robot collected 2.52kg of apples\n",
      "The robot collected 3.52kg of apples\n",
      "The robot collected 2.43kg of apples\n",
      "The robot collected 4.73kg of apples\n",
      "The robot collected 3.44kg of apples\n",
      "The robot collected 3.04kg of apples\n",
      "The robot collected 3.12kg of apples\n",
      "The robot collected 2.74kg of apples\n",
      "The robot collected 1.33kg of apples\n",
      "After 100 iterations, the mean yield from this tree was: 3.13kg\n",
      "The robot collected 2.52kg of apples\n",
      "The robot collected 4.57kg of apples\n",
      "The robot collected 3.22kg of apples\n",
      "The robot collected 4.05kg of apples\n",
      "The robot collected 4.08kg of apples\n",
      "The robot collected 2.96kg of apples\n",
      "The robot collected 3.65kg of apples\n",
      "The robot collected 1.42kg of apples\n",
      "The robot collected 4.48kg of apples\n",
      "The robot collected 4.38kg of apples\n",
      "The robot collected 3.49kg of apples\n",
      "The robot collected 3.26kg of apples\n",
      "The robot collected 2.97kg of apples\n",
      "The robot collected 4.17kg of apples\n",
      "The robot collected 3.77kg of apples\n",
      "The robot collected 0.15kg of apples\n",
      "The robot collected 2.64kg of apples\n",
      "The robot collected 1.88kg of apples\n",
      "The robot collected 1.71kg of apples\n",
      "The robot collected 4.16kg of apples\n",
      "The robot collected 2.95kg of apples\n",
      "The robot collected 3.48kg of apples\n",
      "The robot collected 3.08kg of apples\n",
      "The robot collected 1.72kg of apples\n",
      "The robot collected 1.44kg of apples\n",
      "The robot collected 2.57kg of apples\n",
      "The robot collected 2.65kg of apples\n",
      "The robot collected 2.65kg of apples\n",
      "The robot collected 2.68kg of apples\n",
      "The robot collected 5.08kg of apples\n",
      "The robot collected 4.03kg of apples\n",
      "The robot collected 3.24kg of apples\n",
      "The robot collected 2.93kg of apples\n",
      "The robot collected 2.96kg of apples\n",
      "The robot collected 3.73kg of apples\n",
      "The robot collected 2.92kg of apples\n",
      "The robot collected 3.92kg of apples\n",
      "The robot collected 3.35kg of apples\n",
      "The robot collected 5.09kg of apples\n",
      "The robot collected 2.86kg of apples\n",
      "The robot collected 4.11kg of apples\n",
      "The robot collected 1.96kg of apples\n",
      "The robot collected 2.38kg of apples\n",
      "The robot collected 4.91kg of apples\n",
      "The robot collected 3.87kg of apples\n",
      "The robot collected 3.50kg of apples\n",
      "The robot collected 5.40kg of apples\n",
      "The robot collected 2.94kg of apples\n",
      "The robot collected 4.11kg of apples\n",
      "The robot collected 4.19kg of apples\n",
      "The robot collected 4.63kg of apples\n",
      "The robot collected 1.85kg of apples\n",
      "The robot collected 2.94kg of apples\n",
      "The robot collected 3.33kg of apples\n",
      "The robot collected 4.61kg of apples\n",
      "The robot collected 3.45kg of apples\n",
      "The robot collected 4.19kg of apples\n",
      "The robot collected 1.77kg of apples\n",
      "The robot collected 2.70kg of apples\n",
      "The robot collected 4.38kg of apples\n",
      "The robot collected 2.83kg of apples\n",
      "The robot collected 3.02kg of apples\n",
      "The robot collected 4.59kg of apples\n",
      "The robot collected 2.15kg of apples\n",
      "The robot collected 2.36kg of apples\n",
      "The robot collected 1.68kg of apples\n",
      "The robot collected 4.64kg of apples\n",
      "The robot collected 4.01kg of apples\n",
      "The robot collected 3.98kg of apples\n",
      "The robot collected 2.68kg of apples\n",
      "The robot collected 1.61kg of apples\n",
      "The robot collected 1.35kg of apples\n",
      "The robot collected 4.38kg of apples\n",
      "The robot collected 3.56kg of apples\n",
      "The robot collected 3.76kg of apples\n",
      "The robot collected 3.28kg of apples\n",
      "The robot collected 2.25kg of apples\n",
      "The robot collected 2.72kg of apples\n",
      "The robot collected 2.01kg of apples\n",
      "The robot collected 1.90kg of apples\n",
      "The robot collected 3.92kg of apples\n",
      "The robot collected 1.43kg of apples\n",
      "The robot collected 2.02kg of apples\n",
      "The robot collected 2.78kg of apples\n",
      "The robot collected 3.11kg of apples\n",
      "The robot collected 1.67kg of apples\n",
      "The robot collected 1.41kg of apples\n",
      "The robot collected 3.44kg of apples\n",
      "The robot collected 3.22kg of apples\n",
      "The robot collected 4.36kg of apples\n",
      "The robot collected 3.12kg of apples\n",
      "The robot collected 3.54kg of apples\n",
      "The robot collected 2.30kg of apples\n",
      "The robot collected 2.34kg of apples\n",
      "The robot collected 1.76kg of apples\n",
      "The robot collected 2.31kg of apples\n",
      "The robot collected 2.71kg of apples\n",
      "The robot collected 4.25kg of apples\n",
      "The robot collected 2.16kg of apples\n",
      "The robot collected 5.15kg of apples\n",
      "The robot collected 3.50kg of apples\n",
      "The robot collected 2.86kg of apples\n",
      "The robot collected 2.77kg of apples\n",
      "The robot collected 2.77kg of apples\n",
      "The robot collected 4.58kg of apples\n",
      "The robot collected 3.77kg of apples\n",
      "The robot collected 2.53kg of apples\n",
      "The robot collected 3.54kg of apples\n",
      "The robot collected 3.24kg of apples\n",
      "The robot collected 1.09kg of apples\n",
      "The robot collected 1.99kg of apples\n",
      "The robot collected 3.31kg of apples\n",
      "The robot collected 4.47kg of apples\n",
      "The robot collected 2.77kg of apples\n",
      "The robot collected 2.46kg of apples\n",
      "The robot collected 3.11kg of apples\n",
      "The robot collected 2.40kg of apples\n",
      "The robot collected 2.71kg of apples\n",
      "The robot collected 2.99kg of apples\n",
      "The robot collected 1.94kg of apples\n",
      "The robot collected 3.82kg of apples\n",
      "The robot collected 1.78kg of apples\n",
      "The robot collected 1.67kg of apples\n",
      "The robot collected 3.20kg of apples\n",
      "The robot collected 3.74kg of apples\n",
      "The robot collected 3.17kg of apples\n",
      "The robot collected 2.88kg of apples\n",
      "The robot collected 2.70kg of apples\n",
      "The robot collected 2.54kg of apples\n",
      "The robot collected 4.06kg of apples\n",
      "The robot collected 3.32kg of apples\n",
      "The robot collected 2.61kg of apples\n",
      "The robot collected 2.32kg of apples\n",
      "The robot collected 3.61kg of apples\n",
      "The robot collected 4.03kg of apples\n",
      "The robot collected 3.93kg of apples\n",
      "The robot collected 2.16kg of apples\n",
      "The robot collected 2.69kg of apples\n",
      "The robot collected 2.52kg of apples\n",
      "The robot collected 2.81kg of apples\n",
      "The robot collected 3.81kg of apples\n",
      "The robot collected 4.36kg of apples\n",
      "The robot collected 3.36kg of apples\n",
      "The robot collected 2.35kg of apples\n",
      "The robot collected 2.96kg of apples\n",
      "The robot collected 4.56kg of apples\n",
      "The robot collected 3.09kg of apples\n",
      "The robot collected 2.70kg of apples\n",
      "The robot collected 2.78kg of apples\n",
      "The robot collected 3.36kg of apples\n",
      "The robot collected 2.19kg of apples\n",
      "The robot collected 2.50kg of apples\n",
      "The robot collected 3.92kg of apples\n",
      "The robot collected 3.33kg of apples\n",
      "The robot collected 3.10kg of apples\n",
      "The robot collected 3.97kg of apples\n",
      "The robot collected 2.30kg of apples\n",
      "The robot collected 2.67kg of apples\n",
      "The robot collected 3.30kg of apples\n",
      "The robot collected 3.26kg of apples\n",
      "The robot collected 1.58kg of apples\n",
      "The robot collected 2.58kg of apples\n",
      "The robot collected 2.84kg of apples\n",
      "The robot collected 3.40kg of apples\n",
      "The robot collected 3.26kg of apples\n",
      "The robot collected 2.93kg of apples\n",
      "The robot collected 1.08kg of apples\n",
      "The robot collected 2.97kg of apples\n",
      "The robot collected 3.06kg of apples\n",
      "The robot collected 5.46kg of apples\n",
      "The robot collected 2.81kg of apples\n",
      "The robot collected 3.30kg of apples\n",
      "The robot collected 4.14kg of apples\n",
      "The robot collected 3.75kg of apples\n",
      "The robot collected 4.40kg of apples\n",
      "The robot collected 1.60kg of apples\n",
      "The robot collected 2.01kg of apples\n",
      "The robot collected 2.43kg of apples\n",
      "The robot collected 1.45kg of apples\n",
      "The robot collected 3.07kg of apples\n",
      "The robot collected 2.08kg of apples\n",
      "The robot collected 4.55kg of apples\n",
      "The robot collected 2.22kg of apples\n",
      "The robot collected 2.68kg of apples\n",
      "The robot collected 3.81kg of apples\n",
      "The robot collected 1.77kg of apples\n",
      "The robot collected 1.39kg of apples\n",
      "The robot collected 3.18kg of apples\n",
      "The robot collected 3.26kg of apples\n",
      "The robot collected 3.78kg of apples\n",
      "The robot collected 3.52kg of apples\n",
      "The robot collected 3.30kg of apples\n",
      "The robot collected 2.32kg of apples\n",
      "The robot collected 3.23kg of apples\n",
      "The robot collected 3.29kg of apples\n",
      "The robot collected 2.29kg of apples\n",
      "The robot collected 4.87kg of apples\n",
      "The robot collected 3.47kg of apples\n",
      "The robot collected 2.03kg of apples\n",
      "The robot collected 3.79kg of apples\n",
      "The robot collected 5.50kg of apples\n",
      "The robot collected 4.86kg of apples\n",
      "The robot collected 4.77kg of apples\n",
      "The robot collected 4.77kg of apples\n",
      "The robot collected 6.58kg of apples\n",
      "The robot collected 5.77kg of apples\n",
      "The robot collected 4.53kg of apples\n",
      "The robot collected 5.54kg of apples\n",
      "The robot collected 5.24kg of apples\n",
      "The robot collected 3.09kg of apples\n",
      "The robot collected 3.99kg of apples\n",
      "The robot collected 5.31kg of apples\n",
      "The robot collected 6.47kg of apples\n",
      "The robot collected 4.77kg of apples\n",
      "The robot collected 4.46kg of apples\n",
      "The robot collected 5.11kg of apples\n",
      "The robot collected 4.40kg of apples\n",
      "The robot collected 4.71kg of apples\n",
      "The robot collected 4.99kg of apples\n",
      "The robot collected 3.94kg of apples\n",
      "The robot collected 5.82kg of apples\n",
      "The robot collected 3.78kg of apples\n",
      "The robot collected 3.67kg of apples\n",
      "The robot collected 5.20kg of apples\n",
      "The robot collected 5.74kg of apples\n",
      "The robot collected 5.17kg of apples\n",
      "The robot collected 4.88kg of apples\n",
      "The robot collected 4.70kg of apples\n",
      "The robot collected 4.54kg of apples\n",
      "The robot collected 6.06kg of apples\n",
      "The robot collected 5.32kg of apples\n",
      "The robot collected 4.61kg of apples\n",
      "The robot collected 4.32kg of apples\n",
      "The robot collected 5.61kg of apples\n",
      "The robot collected 6.03kg of apples\n",
      "The robot collected 5.93kg of apples\n",
      "The robot collected 4.16kg of apples\n",
      "The robot collected 4.69kg of apples\n",
      "The robot collected 4.52kg of apples\n",
      "The robot collected 4.81kg of apples\n",
      "The robot collected 5.81kg of apples\n",
      "The robot collected 6.36kg of apples\n",
      "The robot collected 5.36kg of apples\n",
      "The robot collected 4.35kg of apples\n",
      "The robot collected 4.96kg of apples\n",
      "The robot collected 6.56kg of apples\n",
      "The robot collected 5.09kg of apples\n",
      "The robot collected 4.70kg of apples\n",
      "The robot collected 4.78kg of apples\n",
      "The robot collected 5.36kg of apples\n",
      "The robot collected 4.19kg of apples\n",
      "The robot collected 4.50kg of apples\n",
      "The robot collected 5.92kg of apples\n",
      "The robot collected 5.33kg of apples\n",
      "The robot collected 5.10kg of apples\n",
      "The robot collected 5.97kg of apples\n",
      "The robot collected 4.30kg of apples\n",
      "The robot collected 4.67kg of apples\n",
      "The robot collected 5.30kg of apples\n",
      "The robot collected 5.26kg of apples\n",
      "The robot collected 3.58kg of apples\n",
      "The robot collected 4.58kg of apples\n",
      "The robot collected 4.84kg of apples\n",
      "The robot collected 5.40kg of apples\n",
      "The robot collected 5.26kg of apples\n",
      "The robot collected 4.93kg of apples\n",
      "The robot collected 3.08kg of apples\n",
      "The robot collected 4.97kg of apples\n",
      "The robot collected 5.06kg of apples\n",
      "The robot collected 7.46kg of apples\n",
      "The robot collected 4.81kg of apples\n",
      "The robot collected 5.30kg of apples\n",
      "The robot collected 6.14kg of apples\n",
      "The robot collected 5.75kg of apples\n",
      "The robot collected 6.40kg of apples\n",
      "The robot collected 3.60kg of apples\n",
      "The robot collected 4.01kg of apples\n",
      "The robot collected 4.43kg of apples\n",
      "The robot collected 3.45kg of apples\n",
      "The robot collected 5.07kg of apples\n",
      "The robot collected 4.08kg of apples\n",
      "The robot collected 6.55kg of apples\n",
      "The robot collected 4.22kg of apples\n",
      "The robot collected 4.68kg of apples\n",
      "The robot collected 5.81kg of apples\n",
      "The robot collected 3.77kg of apples\n",
      "The robot collected 3.39kg of apples\n",
      "The robot collected 5.18kg of apples\n",
      "The robot collected 5.26kg of apples\n",
      "The robot collected 5.78kg of apples\n",
      "The robot collected 5.52kg of apples\n",
      "The robot collected 5.30kg of apples\n",
      "The robot collected 4.32kg of apples\n",
      "The robot collected 5.23kg of apples\n",
      "The robot collected 5.29kg of apples\n",
      "The robot collected 4.29kg of apples\n",
      "The robot collected 6.87kg of apples\n",
      "The robot collected 5.47kg of apples\n",
      "The robot collected 4.03kg of apples\n",
      "The robot collected 5.79kg of apples\n",
      "The robot collected 68.96kg of apples\n",
      "The robot collected 61.34kg of apples\n",
      "The robot collected 60.19kg of apples\n",
      "The robot collected 60.19kg of apples\n",
      "The robot collected 81.95kg of apples\n",
      "The robot collected 72.21kg of apples\n",
      "The robot collected 57.37kg of apples\n",
      "The robot collected 69.51kg of apples\n",
      "The robot collected 65.90kg of apples\n",
      "The robot collected 40.04kg of apples\n",
      "The robot collected 50.85kg of apples\n",
      "The robot collected 66.77kg of apples\n",
      "The robot collected 80.59kg of apples\n",
      "The robot collected 60.29kg of apples\n",
      "The robot collected 56.47kg of apples\n",
      "The robot collected 64.33kg of apples\n",
      "The robot collected 55.79kg of apples\n",
      "The robot collected 59.50kg of apples\n",
      "The robot collected 62.84kg of apples\n",
      "The robot collected 50.31kg of apples\n",
      "The robot collected 72.87kg of apples\n",
      "The robot collected 48.35kg of apples\n",
      "The robot collected 47.06kg of apples\n",
      "The robot collected 65.36kg of apples\n",
      "The robot collected 71.86kg of apples\n",
      "The robot collected 65.06kg of apples\n",
      "The robot collected 61.61kg of apples\n",
      "The robot collected 59.39kg of apples\n",
      "The robot collected 57.47kg of apples\n",
      "The robot collected 75.69kg of apples\n",
      "The robot collected 66.89kg of apples\n",
      "The robot collected 58.38kg of apples\n",
      "The robot collected 54.88kg of apples\n",
      "The robot collected 70.34kg of apples\n",
      "The robot collected 75.37kg of apples\n",
      "The robot collected 74.18kg of apples\n",
      "The robot collected 52.93kg of apples\n",
      "The robot collected 59.29kg of apples\n",
      "The robot collected 57.25kg of apples\n",
      "The robot collected 60.77kg of apples\n",
      "The robot collected 72.75kg of apples\n",
      "The robot collected 79.27kg of apples\n",
      "The robot collected 67.34kg of apples\n",
      "The robot collected 55.26kg of apples\n",
      "The robot collected 62.57kg of apples\n",
      "The robot collected 81.78kg of apples\n",
      "The robot collected 64.04kg of apples\n",
      "The robot collected 59.41kg of apples\n",
      "The robot collected 60.36kg of apples\n",
      "The robot collected 67.29kg of apples\n",
      "The robot collected 53.30kg of apples\n",
      "The robot collected 56.98kg of apples\n",
      "The robot collected 73.98kg of apples\n",
      "The robot collected 66.95kg of apples\n",
      "The robot collected 64.16kg of apples\n",
      "The robot collected 74.62kg of apples\n",
      "The robot collected 54.58kg of apples\n",
      "The robot collected 59.07kg of apples\n",
      "The robot collected 66.55kg of apples\n",
      "The robot collected 66.13kg of apples\n",
      "The robot collected 46.02kg of apples\n",
      "The robot collected 57.95kg of apples\n",
      "The robot collected 61.06kg of apples\n",
      "The robot collected 67.85kg of apples\n",
      "The robot collected 66.09kg of apples\n",
      "The robot collected 62.11kg of apples\n",
      "The robot collected 39.97kg of apples\n",
      "The robot collected 62.68kg of apples\n",
      "The robot collected 63.72kg of apples\n",
      "The robot collected 92.56kg of apples\n",
      "The robot collected 60.69kg of apples\n",
      "The robot collected 66.62kg of apples\n",
      "The robot collected 76.71kg of apples\n",
      "The robot collected 72.02kg of apples\n",
      "The robot collected 79.83kg of apples\n",
      "The robot collected 46.18kg of apples\n",
      "The robot collected 51.11kg of apples\n",
      "The robot collected 56.20kg of apples\n",
      "The robot collected 44.39kg of apples\n",
      "The robot collected 63.82kg of apples\n",
      "The robot collected 51.97kg of apples\n",
      "The robot collected 81.60kg of apples\n",
      "The robot collected 53.60kg of apples\n",
      "The robot collected 59.14kg of apples\n",
      "The robot collected 72.76kg of apples\n",
      "The robot collected 48.23kg of apples\n",
      "The robot collected 43.71kg of apples\n",
      "The robot collected 65.22kg of apples\n",
      "The robot collected 66.12kg of apples\n",
      "The robot collected 72.38kg of apples\n",
      "The robot collected 69.26kg of apples\n",
      "The robot collected 66.56kg of apples\n",
      "The robot collected 54.84kg of apples\n",
      "The robot collected 65.79kg of apples\n",
      "The robot collected 66.52kg of apples\n",
      "The robot collected 54.43kg of apples\n",
      "The robot collected 85.39kg of apples\n",
      "The robot collected 68.69kg of apples\n",
      "The robot collected 51.30kg of apples\n",
      "The robot collected 72.45kg of apples\n",
      "The robot collected 430.06kg of apples\n",
      "The robot collected 152.58kg of apples\n",
      "The robot collected 110.67kg of apples\n",
      "The robot collected 110.68kg of apples\n",
      "The robot collected 903.12kg of apples\n",
      "The robot collected 548.37kg of apples\n",
      "The robot collected 7.84kg of apples\n",
      "The robot collected 450.10kg of apples\n",
      "The robot collected 318.74kg of apples\n",
      "The robot collected 0.00kg of apples\n",
      "The robot collected 0.00kg of apples\n",
      "The robot collected 350.33kg of apples\n",
      "The robot collected 853.49kg of apples\n",
      "The robot collected 114.34kg of apples\n",
      "The robot collected 0.00kg of apples\n",
      "The robot collected 261.47kg of apples\n",
      "The robot collected 0.00kg of apples\n",
      "The robot collected 85.53kg of apples\n",
      "The robot collected 207.10kg of apples\n",
      "The robot collected 0.00kg of apples\n",
      "The robot collected 572.45kg of apples\n",
      "The robot collected 0.00kg of apples\n",
      "The robot collected 0.00kg of apples\n",
      "The robot collected 299.03kg of apples\n",
      "The robot collected 535.71kg of apples\n",
      "The robot collected 287.89kg of apples\n",
      "The robot collected 162.46kg of apples\n",
      "The robot collected 81.42kg of apples\n",
      "The robot collected 11.70kg of apples\n",
      "The robot collected 674.96kg of apples\n",
      "The robot collected 354.62kg of apples\n",
      "The robot collected 44.72kg of apples\n",
      "The robot collected 0.00kg of apples\n",
      "The robot collected 480.30kg of apples\n",
      "The robot collected 663.55kg of apples\n",
      "The robot collected 619.97kg of apples\n",
      "The robot collected 0.00kg of apples\n",
      "The robot collected 77.87kg of apples\n",
      "The robot collected 3.60kg of apples\n",
      "The robot collected 131.87kg of apples\n",
      "The robot collected 568.07kg of apples\n",
      "The robot collected 805.68kg of apples\n",
      "The robot collected 371.03kg of apples\n",
      "The robot collected 0.00kg of apples\n",
      "The robot collected 197.34kg of apples\n",
      "The robot collected 896.75kg of apples\n",
      "The robot collected 251.04kg of apples\n",
      "The robot collected 82.33kg of apples\n",
      "The robot collected 117.00kg of apples\n",
      "The robot collected 369.06kg of apples\n",
      "The robot collected 0.00kg of apples\n",
      "The robot collected 0.00kg of apples\n",
      "The robot collected 613.03kg of apples\n",
      "The robot collected 356.66kg of apples\n",
      "The robot collected 255.42kg of apples\n",
      "The robot collected 636.30kg of apples\n",
      "The robot collected 0.00kg of apples\n",
      "The robot collected 69.81kg of apples\n",
      "The robot collected 342.40kg of apples\n",
      "The robot collected 327.08kg of apples\n",
      "The robot collected 0.00kg of apples\n",
      "The robot collected 29.18kg of apples\n",
      "The robot collected 142.52kg of apples\n",
      "The robot collected 389.57kg of apples\n",
      "The robot collected 325.55kg of apples\n",
      "The robot collected 180.47kg of apples\n",
      "The robot collected 0.00kg of apples\n",
      "The robot collected 201.41kg of apples\n",
      "The robot collected 239.32kg of apples\n",
      "The robot collected 1289.44kg of apples\n",
      "The robot collected 128.94kg of apples\n",
      "The robot collected 344.78kg of apples\n",
      "The robot collected 712.41kg of apples\n",
      "The robot collected 541.59kg of apples\n",
      "The robot collected 826.02kg of apples\n",
      "The robot collected 0.00kg of apples\n",
      "The robot collected 0.00kg of apples\n",
      "The robot collected 0.00kg of apples\n",
      "The robot collected 0.00kg of apples\n",
      "The robot collected 242.96kg of apples\n",
      "The robot collected 0.00kg of apples\n",
      "The robot collected 890.32kg of apples\n",
      "The robot collected 0.00kg of apples\n",
      "The robot collected 72.26kg of apples\n",
      "The robot collected 568.51kg of apples\n",
      "The robot collected 0.00kg of apples\n",
      "The robot collected 0.00kg of apples\n",
      "The robot collected 293.68kg of apples\n",
      "The robot collected 326.57kg of apples\n",
      "The robot collected 554.66kg of apples\n",
      "The robot collected 441.09kg of apples\n",
      "The robot collected 342.78kg of apples\n",
      "The robot collected 0.00kg of apples\n",
      "The robot collected 314.49kg of apples\n",
      "The robot collected 341.07kg of apples\n",
      "The robot collected 0.00kg of apples\n",
      "The robot collected 1028.34kg of apples\n",
      "The robot collected 420.06kg of apples\n",
      "The robot collected 0.00kg of apples\n",
      "The robot collected 556.96kg of apples\n",
      "All tests passed\n"
     ]
    }
   ],
   "source": [
    "def mean_tree_yield(tree, iterations=100) -> float:\n",
    "    \"\"\" Collects from a tree multiple times, and then returns the mean yield.\n",
    "\n",
    "    Args:\n",
    "        tree: Reference to the tree which we forage (sample) from.\n",
    "        iterations: The number of samples to collect.\n",
    "    \"\"\"\n",
    "    # Create an empty list of samples\n",
    "    samples = []\n",
    "\n",
    "    # Collect one new sample from the given tree in each iteration using the forage() function of our bot.\n",
    "    for i in range(iterations):\n",
    "        samples.append(forageBot.forage(tree, verbose=True))\n",
    "\n",
    "    # Calculate and return the mean\n",
    "    tree_av = sum(samples)/100\n",
    "    return tree_av\n",
    "\n",
    "mean_result = mean_tree_yield(tree_one)\n",
    "print(f'After 100 iterations, the mean yield from this tree was: {mean_result:.02f}kg')\n",
    "\n",
    "# This function is graded. You can uncomment the line below to test whether your function passes.\n",
    "tests.Test_MeanTreeYield(mean_tree_yield);"
   ]
  },
  {
   "attachments": {},
   "cell_type": "markdown",
   "metadata": {},
   "source": [
    "If you rerun the cell above, you will notice that the mean yield still changes every time, since we are only estimating it from 100 samples. Nevertheless, our estimate is now much more consistent than any single sample was.\n",
    "\n",
    "While the mean is often a useful metric, we might get an even better idea of what each apple tree yields if we plot the distribution of apples. Complete the code below to do just that."
   ]
  },
  {
   "cell_type": "code",
   "execution_count": 102,
   "metadata": {},
   "outputs": [
    {
     "data": {
      "image/png": "[encoded data removed]",
      "text/plain": [
       "<Figure size 432x288 with 1 Axes>"
      ]
     },
     "metadata": {
      "needs_background": "light"
     },
     "output_type": "display_data"
    }
   ],
   "source": [
    "def plot_distribution(samples, color='blue') -> None:\n",
    "    \"\"\" Plots the distribution of collected samples.\n",
    "\n",
    "    Args:\n",
    "        samples: A list of samples from a distribution.\n",
    "        color: Name of the color in which to draw the distribution\n",
    "    \"\"\"\n",
    "\n",
    "    # Hint: Use the histplot function of seaborn (imported as sns)\n",
    "    sns.histplot(samples, color=color)\n",
    "    plt.xlabel('Sample Values')\n",
    "    plt.ylabel('Frequency')\n",
    "    plt.title('Distribution of Collected Samples')\n",
    "    \n",
    "    return None\n",
    "\n",
    "\n",
    "\n",
    "# Set random seed so output matches the expected output\n",
    "np.random.seed(42)\n",
    "# Collect from a tree 500 times\n",
    "samples = [forageBot.forage(tree_two) for i in range(500)]\n",
    "plot_distribution(samples, color='blue')"
   ]
  },
  {
   "attachments": {},
   "cell_type": "markdown",
   "metadata": {},
   "source": [
    "You should generate this image:\n",
    "\n",
    "<img src=\"resources/plot1.png\" alt=\"Distribution plot for tree_two\" width=\"200\"/>\n",
    "\n",
    "Now let's compare the two trees:"
   ]
  },
  {
   "cell_type": "code",
   "execution_count": 101,
   "metadata": {},
   "outputs": [
    {
     "data": {
      "image/png": "[encoded data removed]",
      "text/plain": [
       "<Figure size 432x288 with 1 Axes>"
      ]
     },
     "metadata": {
      "needs_background": "light"
     },
     "output_type": "display_data"
    }
   ],
   "source": [
    "# Set random seed so output matches the expected output\n",
    "np.random.seed(42)\n",
    "\n",
    "# Collect from both trees\n",
    "samples_one = [forageBot.forage(tree_one) for i in range(500)]\n",
    "samples_two = [forageBot.forage(tree_two) for i in range(500)]\n",
    "\n",
    "# Plot distributions\n",
    "plot_distribution(samples_one, color='blue')\n",
    "plot_distribution(samples_two, color='red')"
   ]
  },
  {
   "attachments": {},
   "cell_type": "markdown",
   "metadata": {},
   "source": [
    "You should generate this image:\n",
    "\n",
    "<img src=\"resources/plot2.png\" alt=\"Distribution plot for tree_two\" width=\"200\"/>\n",
    "\n",
    "You can see that the distributions from both apple trees have a similar shape, but that tree two tends to give more apples than tree one.\n",
    "\n",
    "Now, let's have a look at two more trees"
   ]
  },
  {
   "cell_type": "code",
   "execution_count": 103,
   "metadata": {},
   "outputs": [
    {
     "data": {
      "image/png": "[encoded data removed]",
      "text/plain": [
       "<Figure size 432x288 with 1 Axes>"
      ]
     },
     "metadata": {
      "needs_background": "light"
     },
     "output_type": "display_data"
    }
   ],
   "source": [
    "tree_three = ForageBot.pre_survey['tree_three']\n",
    "tree_four = ForageBot.pre_survey['tree_four']\n",
    "\n",
    "# Set random seed so output matches the expected output\n",
    "np.random.seed(42)\n",
    "\n",
    "# Collect from both trees\n",
    "samples_three = [forageBot.forage(tree_three) for i in range(500)]\n",
    "samples_four = [forageBot.forage(tree_four) for i in range(500)]\n",
    "\n",
    "# Plot distributions\n",
    "plot_distribution(samples_three, color='blue')\n",
    "plot_distribution(samples_four, color='red')"
   ]
  },
  {
   "attachments": {},
   "cell_type": "markdown",
   "metadata": {},
   "source": [
    "Although both of these apple trees seem to also be normally distributed, tree three has a much higher variance.\n",
    "\n",
    "If you run our mean_tree_yield() function, you will find that tree three (blue distribution) has a higher mean yield.\n",
    "\n",
    "But let's say you need 5kg of apples today. Can you calculate which of the two trees (tree_three and tree_four) is most likely to yield you at least 5kg on any given day?\n",
    "\n",
    "Don't remember how to calculate a probability from a distribution? Check out this: https://mathworld.wolfram.com/DistributionFunction.html\n",
    "\n",
    "You will need to do two things:\n",
    "1) Estimate the parameters of the distribution for each tree from the samples you collected. (You can use scipy.stats.norm)\n",
    "2) Calculate the probability for each tree to yield at least 5kg (You will want to use the cumulative distribution function for this)\n",
    "\n",
    "The commonly used Python packages all have pretty decent online documentation. Don't intrinsically know how to use scipy.stats.norm? Nobody does. Check this:\n",
    "https://docs.scipy.org/doc/scipy/reference/generated/scipy.stats.norm.html"
   ]
  },
  {
   "cell_type": "code",
   "execution_count": 117,
   "metadata": {},
   "outputs": [
    {
     "name": "stdout",
     "output_type": "stream",
     "text": [
      "Tree four is most likely to yield you at least 5kg on any given day\n",
      "All tests passed\n"
     ]
    }
   ],
   "source": [
    "from scipy.stats import norm\n",
    "\n",
    "# Use the same samples we collected above to make sure your answer matches ours.\n",
    "np.random.seed(42)\n",
    "samples_three = [forageBot.forage(tree_three) for i in range(500)]\n",
    "samples_four = [forageBot.forage(tree_four) for i in range(500)]\n",
    "\n",
    "# Complete the two steps described above here\n",
    "def probability(samples, x):\n",
    "    mean, std_dev =norm.fit(samples)\n",
    "    probability_tree = 1 - norm.cdf(x, loc=mean, scale=std_dev)\n",
    "    return probability_tree\n",
    "\n",
    "# Assign the probability that tree three yields more than 5kg of apples on any given day to ANSWER_PROB_TREE_THREE\n",
    "ANSWER_PROB_TREE_THREE = probability(samples_three, 5)\n",
    "# Assign the probability that tree four yields more than 5kg of apples on any given day to ANSWER_PROB_TREE_FOUR\n",
    "ANSWER_PROB_TREE_FOUR =  probability(samples_four, 5)\n",
    "\n",
    "if ANSWER_PROB_TREE_THREE > ANSWER_PROB_TREE_FOUR:\n",
    "    print(\"Tree three is most likely to yield you at least 5kg on any given day\")\n",
    "else:\n",
    "    print(\"Tree four is most likely to yield you at least 5kg on any given day\")\n",
    "\n",
    "\n",
    "\n",
    "tests.Test_ExerciseTwo(ANSWER_PROB_TREE_THREE=ANSWER_PROB_TREE_THREE, ANSWER_PROB_TREE_FOUR=ANSWER_PROB_TREE_FOUR);"
   ]
  },
  {
   "attachments": {},
   "cell_type": "markdown",
   "metadata": {},
   "source": [
    "Now that we have figured out how to evaluate trees, let's explore a little and find some new ones.\n",
    "Your forage bot can also explore to find new foragable things in the forest. Run the function explore() a few times and see what you get."
   ]
  },
  {
   "cell_type": "code",
   "execution_count": 115,
   "metadata": {},
   "outputs": [
    {
     "name": "stdout",
     "output_type": "stream",
     "text": [
      "<scenario.forage_bot.BerryBush object at 0x000001B346234A30>\n"
     ]
    }
   ],
   "source": [
    "discovery = forageBot.explore()\n",
    "print(discovery)"
   ]
  },
  {
   "attachments": {},
   "cell_type": "markdown",
   "metadata": {},
   "source": [
    "The output you get might not be the most clear. <scenario.forage_bot.Tree object at 0x000002978E34B7D0> simply means that the function explore() returned an object of class Tree from the scenario.forage_bot module. <scenario.forage_bot.BerryBush object at 0x000001ECEFC7B040> is a different class, BerryBush, from the same module. Apparently, explore can return one of two different return types.\n",
    "\n",
    "So, as you can see, your robot will find new trees and berry bushes when exploring."
   ]
  },
  {
   "attachments": {},
   "cell_type": "markdown",
   "metadata": {},
   "source": [
    "## Final task bronze level\n",
    "Your final task for the bronze medal is to find a tree that will yield more than 8kg of apples on more than 75% of days.\n",
    "Use the explore function together with the functions you have created so far!\n",
    "\n",
    "Note: Trees have some attributes which of course you could theoretically look up directly by checking the scenario files, instead of estimating them from samples. But a solution which is based on this will NOT be accepted.\n",
    "\n",
    "Since the explore() method can result in both Tree or BerryBush, you will need to check whether you found a Tree. There are several ways in which this can be done, on of which is the built-in isinstance() function."
   ]
  },
  {
   "cell_type": "code",
   "execution_count": 138,
   "metadata": {},
   "outputs": [
    {
     "name": "stdout",
     "output_type": "stream",
     "text": [
      "All tests passed\n"
     ]
    }
   ],
   "source": [
    "# Set a seed so that your solution works when we test it.\n",
    "np.random.seed(42)\n",
    "\n",
    "# Search for a new tree that fulfils the requirement\n",
    "new = []\n",
    "\n",
    "for i in range(500):\n",
    "    tree = forageBot.explore()\n",
    "    y = [forageBot.forage(tree) for i in range(500)]\n",
    "    if probability(y, 8) > 0.75:\n",
    "        x = y \n",
    "        break\n",
    "\n",
    "# Assign this tree here\n",
    "BRONZE_MEDAL_TREE = tree\n",
    "\n",
    "\n",
    "\n",
    "tests.Test_ExerciseThree(BRONZE_MEDAL_TREE=BRONZE_MEDAL_TREE);"
   ]
  },
  {
   "attachments": {},
   "cell_type": "markdown",
   "metadata": {},
   "source": [
    "## Silver Level: Conditional Probabilities\n",
    "When solving the last task, you found not just trees, but also bushes. You had to ignore them while looking for a suitable tree, but now let's have a look at a berry bush!\n",
    "Run the cell below a few times."
   ]
  },
  {
   "cell_type": "code",
   "execution_count": null,
   "metadata": {},
   "outputs": [
    {
     "name": "stdout",
     "output_type": "stream",
     "text": [
      "The robot collected 1.99kg of berries\n"
     ]
    }
   ],
   "source": [
    "bush_one = forageBot.pre_survey['bush_one']\n",
    "forageBot.forage(bush_one, verbose=True);"
   ]
  },
  {
   "attachments": {},
   "cell_type": "markdown",
   "metadata": {},
   "source": [
    "Just like the apple trees, the yield varies each day; however, for berries, the yield seems to vary even more strongly.\n",
    "\n",
    "Let's collect a few samples and then plot the distribution."
   ]
  },
  {
   "cell_type": "code",
   "execution_count": null,
   "metadata": {},
   "outputs": [
    {
     "data": {
      "image/png": "[encoded data removed]",
      "text/plain": [
       "<Figure size 432x288 with 1 Axes>"
      ]
     },
     "metadata": {
      "needs_background": "light"
     },
     "output_type": "display_data"
    }
   ],
   "source": [
    "# Set random seed so output matches the expected output\n",
    "np.random.seed(42)\n",
    "\n",
    "# Collect from both trees\n",
    "samples = [forageBot.forage(bush_one) for i in range(5000)]\n",
    "\n",
    "# Plot distributions\n",
    "plot_distribution(samples)"
   ]
  },
  {
   "attachments": {},
   "cell_type": "markdown",
   "metadata": {},
   "source": [
    "That looks quite different from the apple trees!\n",
    "\n",
    "This appears to be a bimodal distribution. A common reason for bimodal distributions is that we might be measuring two different populations as one, or that our samples might be affected by a variable that we are not teking into account.\n",
    "\n",
    "Let's see if we can find an underlying explanation for this shape. One thing that might affect the performance of your ForageBot might be the weather. Let's try plotting samples from this berry bush depending on the current weather.\n",
    "\n",
    "You can check whether it is currently sunny or raining with forageBot.is_it_raining()\n",
    "\n",
    "Note that weather changes IMMEDIATELY AFTER each forage() or explore() action (or, strictly speaking, changes at the end of that function call). That means you must check the weather first, then go forage()."
   ]
  },
  {
   "cell_type": "code",
   "execution_count": null,
   "metadata": {},
   "outputs": [
    {
     "data": {
      "image/png": "[encoded data removed]",
      "text/plain": [
       "<Figure size 432x288 with 1 Axes>"
      ]
     },
     "metadata": {
      "needs_background": "light"
     },
     "output_type": "display_data"
    }
   ],
   "source": [
    "# Set random seed so output matches the expected output\n",
    "np.random.seed(42)\n",
    "\n",
    "samples_sunny = []\n",
    "samples_rainy = []\n",
    "\n",
    "for i in range(5000):\n",
    "    # Write code here to fill the lists above with a total of 5000 samples\n",
    "    pass\n",
    "\n",
    "\n",
    "\n",
    "# Plot distributions\n",
    "plot_distribution(samples_sunny, color='blue')\n",
    "plot_distribution(samples_rainy, color='red')"
   ]
  },
  {
   "attachments": {},
   "cell_type": "markdown",
   "metadata": {},
   "source": [
    "You should generate this image:\n",
    "\n",
    "<img src=\"resources/plot3.png\" alt=\"Seperate distributions based on weather\" width=\"200\"/>\n",
    "\n",
    "This indeed looks like two separate distributions! Make sure to note whether your ForageBot collects more berries in sunny or rainy weather, it may come in handy later!\n",
    "\n",
    "Earlier, we tried to figure out which apple tree gives us the best chance of getting a certain amount of apples for making pie. Now it's time for a blueberry cobbler, so let's see if we can calculate the chance of collecting at least 2kg of berries. Let us first plot the CDF of these samples by running the cell below."
   ]
  },
  {
   "cell_type": "code",
   "execution_count": null,
   "metadata": {},
   "outputs": [
    {
     "data": {
      "image/png": "[encoded data removed]",
      "text/plain": [
       "<Figure size 432x288 with 1 Axes>"
      ]
     },
     "metadata": {
      "needs_background": "light"
     },
     "output_type": "display_data"
    }
   ],
   "source": [
    "# Collecting again just as above\n",
    "np.random.seed(42)\n",
    "samples = [forageBot.forage(bush_one) for i in range(5000)]\n",
    "\n",
    "# Generate the cumulative distribution function from our samples\n",
    "sorted_samples = np.sort(samples)\n",
    "probability = np.arange(len(samples)) / (len(samples) - 1)\n",
    "\n",
    "# Plot the CDF:\n",
    "sns.lineplot(x=sorted_samples, y=probability);"
   ]
  },
  {
   "attachments": {},
   "cell_type": "markdown",
   "metadata": {},
   "source": [
    "You should generate this image:\n",
    "\n",
    "<img src=\"resources/plot4.png\" alt=\"\" width=\"200\"/>\n",
    "\n",
    "This plot shows us that there is visually a roughly 40% chance of getting a value below 2 from this distribution and thus a roughly 60% chance of getting at 2kg of berries or more.\n",
    "\n",
    "But we can get an even better estimate, if we take take the weather into account! Try creating the same plot, but split by weather."
   ]
  },
  {
   "cell_type": "code",
   "execution_count": null,
   "metadata": {},
   "outputs": [
    {
     "data": {
      "image/png": "[encoded data removed]",
      "text/plain": [
       "<Figure size 432x288 with 1 Axes>"
      ]
     },
     "metadata": {
      "needs_background": "light"
     },
     "output_type": "display_data"
    }
   ],
   "source": [
    "# Collecting again just as above\n",
    "np.random.seed(42)\n",
    "\n",
    "# These samples should still be available, if not recollect them as above.\n",
    "# samples_sunny = []\n",
    "# samples_rainy = []\n",
    "\n",
    "# Calculate the 2 PDFs for sunny and rainy weather here, using the code above.\n",
    "\n",
    "\n",
    "\n",
    "\n",
    "# Plot the CDF:\n",
    "sns.lineplot(x=sorted_samples_sunny, y=probability_sunny, color='blue')\n",
    "sns.lineplot(x=sorted_samples_rainy, y=probability_rainy, color='red');"
   ]
  },
  {
   "attachments": {},
   "cell_type": "markdown",
   "metadata": {},
   "source": [
    "You should generate this image:\n",
    "\n",
    "<img src=\"resources/plot5.png\" alt=\"\" width=\"200\"/>\n",
    "\n",
    "Looks like you are almost guaranteed 2kg of berries on a sunny day, but that on a rainy day you will rarely find so many.\n",
    "\n",
    "But if we want to plan ahead for whether we can bake a blueberry cobbler this week, we also need to know the probability of rain!\n",
    "\n",
    "We could collect some samples and then estimate the probability of rain, but I can also just tell you: Any day has a 40% chance of rain and is otherwise sunny.\n",
    "\n",
    "Now, with these probabilities, we can even make inferences on what the weather was like just from the amount of berries we collected. Let's say you programmed your BakeBot (sold separately) to make a blueberry cobbler any time the ForageBot returns with at least 2kg of berries. You've just come back from vacation, and there is a cobbler made yesterday waiting for you in the kitchen. What are the odds that it was raining yesterday?\n",
    "\n",
    "You know that $P(rain)=0.4$\n",
    "Now calculate the probability to find a cobbler depending on whether or not it rained, that is $P(cobbler|sunny)$ and $P(cobbler|rainy)$"
   ]
  },
  {
   "cell_type": "code",
   "execution_count": null,
   "metadata": {},
   "outputs": [],
   "source": [
    "# Here are the precise distributions for bush_one:\n",
    "bush_one_sunny_dist = norm(loc=3, scale=0.5)\n",
    "bush_one_rainy_dist = norm(loc=1.5, scale=0.5)\n",
    "\n",
    "# Calculate the precise probability of getting at least 2kg of berries from bush_one given either weather (using the cdf)\n",
    "ANSWER_PROB_IF_SUNNY = None\n",
    "ANSWER_PROB_IF_RAINY = None\n",
    "\n"
   ]
  },
  {
   "attachments": {},
   "cell_type": "markdown",
   "metadata": {},
   "source": [
    "Now calculate the probability that it has rained, given that you know enough berries have been collected, that is $P(rainy|cobbler)$\n",
    "\n",
    "You can use Bayes' rule: $$P(B|A)={\\frac {P(A|B)*P(B)}{P(A)}}$$\n",
    "\n",
    "Remember that the overall probability of event A can be rewritten as: $$P(A)={P(A|B)P(B) + P(A|\\neg B)P(\\neg B)}$$\n",
    "\n",
    "Hint: If you are lost, try entering what you know here: https://www.omnicalculator.com/statistics/conditional-probability"
   ]
  },
  {
   "cell_type": "code",
   "execution_count": null,
   "metadata": {},
   "outputs": [
    {
     "data": {
      "text/plain": [
       "0.09766224597974428"
      ]
     },
     "execution_count": 19,
     "metadata": {},
     "output_type": "execute_result"
    }
   ],
   "source": [
    "# Calculate the probability that it has rained\n",
    "\n",
    "# Assign the probability that it has rained below\n",
    "ANSWER_HAS_IT_RAINED = None\n",
    "\n"
   ]
  },
  {
   "attachments": {},
   "cell_type": "markdown",
   "metadata": {},
   "source": [
    "## Gold Level: Explore and Exploit\n",
    "The gold level is a single challenge: Make as much money from your ForageBot as possible in 5000 days.\n",
    "\n",
    "There are a few new rules for this, which will be briefoly explained.\n",
    "\n",
    "First, every time to explore or forage a day passes, which will be counted. The days can be reset with ForageBot.reset_days() which you MUST call in the first AND ONLY THE FIRST line of your solution."
   ]
  },
  {
   "cell_type": "code",
   "execution_count": null,
   "metadata": {},
   "outputs": [
    {
     "name": "stdout",
     "output_type": "stream",
     "text": [
      "It is day 0\n",
      "It is day 1\n",
      "It is day 2\n"
     ]
    }
   ],
   "source": [
    "ForageBot.reset_days()\n",
    "forageBot = ForageBot()\n",
    "day = forageBot.what_day_is_it()\n",
    "print(f'It is day {day}')\n",
    "forageBot.explore()\n",
    "day = forageBot.what_day_is_it()\n",
    "print(f'It is day {day}')\n",
    "forageBot.forage(ForageBot.pre_survey['tree_one'])\n",
    "day = forageBot.what_day_is_it()\n",
    "print(f'It is day {day}')"
   ]
  },
  {
   "attachments": {},
   "cell_type": "markdown",
   "metadata": {},
   "source": [
    "Things you forage are stored in your inventory. Apples and berries last three days and then expire (disappear from the inventory).\n",
    "Items in the inventory are stored as tuples: (Type of fruit: str, amount: float, days until it spoils: int)"
   ]
  },
  {
   "cell_type": "code",
   "execution_count": null,
   "metadata": {},
   "outputs": [
    {
     "name": "stdout",
     "output_type": "stream",
     "text": [
      "[]\n",
      "[('apples', 5.141658432216612, 3)]\n",
      "[('apples', 5.141658432216612, 2), ('apples', 2.1147696543084056, 3)]\n",
      "[('apples', 5.141658432216612, 1), ('apples', 2.1147696543084056, 2), ('berries', 2.7939057597639247, 3)]\n",
      "[('apples', 2.1147696543084056, 1), ('berries', 2.7939057597639247, 2), ('berries', 1.616547619529872, 3)]\n"
     ]
    }
   ],
   "source": [
    "forageBot = ForageBot()\n",
    "print(forageBot.inventory)\n",
    "forageBot.forage(ForageBot.pre_survey['tree_one'])\n",
    "print(forageBot.inventory)\n",
    "forageBot.forage(ForageBot.pre_survey['tree_one'])\n",
    "print(forageBot.inventory)\n",
    "forageBot.forage(ForageBot.pre_survey['bush_one'])\n",
    "print(forageBot.inventory)\n",
    "forageBot.forage(ForageBot.pre_survey['bush_one'])\n",
    "print(forageBot.inventory)"
   ]
  },
  {
   "attachments": {},
   "cell_type": "markdown",
   "metadata": {},
   "source": [
    "You can now sell what you foraged! You can only sell all of your inventory at once, not individual items.\n",
    "Apples are usually worth 1 euro per kilo.\n",
    "Berries are usually worth 3 euros per kilo.\n",
    "Prices can however vary by weekday. Apples sell better on Tuesday and Wednesday. Berries sell better on the weekend. The first day is a Monday."
   ]
  },
  {
   "cell_type": "code",
   "execution_count": null,
   "metadata": {},
   "outputs": [
    {
     "name": "stdout",
     "output_type": "stream",
     "text": [
      "You earned €3.12 from selling your inventory. Your total is now €3.12\n",
      "You earned €24.66 from selling your inventory. Your total is now €27.78\n"
     ]
    }
   ],
   "source": [
    "forageBot = ForageBot()\n",
    "forageBot.forage(ForageBot.pre_survey['tree_one'])\n",
    "forageBot.sell(verbose=True)\n",
    "forageBot.forage(ForageBot.pre_survey['tree_one'])\n",
    "forageBot.forage(ForageBot.pre_survey['bush_one'])\n",
    "forageBot.sell(verbose=True);"
   ]
  },
  {
   "attachments": {},
   "cell_type": "markdown",
   "metadata": {},
   "source": [
    "Now try to find the optimal strategy for making as much money in 5000 days as possible!\n",
    "\n",
    "- You may call forageBot.explore() and forageBot.forage() a combined total of 5000 times. Weather can change every day, and the day passes immediately after exploring or foraging.\n",
    "- You may sell() as often as you want. Take weekday prices into account. The first day is Monday.\n",
    "- ForageBot.reset_days() MUST be called in the first AND ONLY THE FIRST line of your solution.\n",
    "- You MAY NOT use any of the pre_survey trees and bushes, nor may you use trees or bushes you have discovered previously. You can only forage things you have found within the 5000 days.\n",
    "- You MAY NOT directly modify any things you can find in forage_bot.py, such as manually creating trees or messing with sales prices, etc.\n",
    "- You MAY NOT use additional imports in the solution you submit. You may use libraries imported at the beginning, such as numpy.\n",
    "- You may hardcode parameters that you may have discovered while using additional libraries such as sklearn, as long as those are no longer imported and required for the solution.\n",
    "- We may test your solution with a different random seed if the solution seems to rely on something that can only happen in the chosen seed. In that case, you will receive gold if your solution passes at least a quarter of all seeds.\n",
    "\n",
    "You will receive the gold medal if you manage to earn more than €100.000,00!"
   ]
  },
  {
   "cell_type": "code",
   "execution_count": null,
   "metadata": {},
   "outputs": [
    {
     "name": "stdout",
     "output_type": "stream",
     "text": [
      "5000 days have passed! Your final score is €118004.24. Your script should stop here.\n"
     ]
    }
   ],
   "source": [
    "ForageBot.reset_days(limit=5000)\n",
    "forageBot = ForageBot()\n",
    "np.random.seed(42)\n",
    "# Do not change the lines above\n",
    "\n",
    "# Do whatever you think is best! You can call explore() and forage() a combined total of 5000 times, and should then stop. Don't forget to sell() as well.\n",
    "# Here is a sample solution, which you can hopefully improve:\n",
    "first_thing_we_find = forageBot.explore()\n",
    "for i in range(4999):\n",
    "    forageBot.forage(first_thing_we_find)\n",
    "    forageBot.sell()\n",
    "\n"
   ]
  }
 ],
 "metadata": {
  "kernelspec": {
   "display_name": "Python 3.10.5 64-bit",
   "language": "python",
   "name": "python3"
  },
  "language_info": {
   "codemirror_mode": {
    "name": "ipython",
    "version": 3
   },
   "file_extension": ".py",
   "mimetype": "text/x-python",
   "name": "python",
   "nbconvert_exporter": "python",
   "pygments_lexer": "ipython3",
   "version": "3.9.12"
  },
  "orig_nbformat": 4,
  "vscode": {
   "interpreter": {
    "hash": "2f9d6cf1e3d8195079a65c851de355134a77367bcd714b1a5d498c42d3c07114"
   }
  }
 },
 "nbformat": 4,
 "nbformat_minor": 2
}
